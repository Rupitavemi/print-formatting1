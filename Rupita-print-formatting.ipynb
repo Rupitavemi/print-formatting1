{
 "cells": [
  {
   "cell_type": "code",
   "execution_count": 2,
   "id": "c08ec8f4",
   "metadata": {},
   "outputs": [
    {
     "name": "stdout",
     "output_type": "stream",
     "text": [
      "nama :Rupita\n",
      "\n",
      "\n",
      "npm  :18210018\n"
     ]
    }
   ],
   "source": [
    "nama = \"Rupita\"\n",
    "npm  = \"18210018\"\n",
    "\n",
    "print(\"nama :{}\".format(nama))\n",
    "print(\"\\n\")\n",
    "print(\"npm  :{}\".format (npm))"
   ]
  }
 ],
 "metadata": {
  "kernelspec": {
   "display_name": "Python 3",
   "language": "python",
   "name": "python3"
  },
  "language_info": {
   "codemirror_mode": {
    "name": "ipython",
    "version": 3
   },
   "file_extension": ".py",
   "mimetype": "text/x-python",
   "name": "python",
   "nbconvert_exporter": "python",
   "pygments_lexer": "ipython3",
   "version": "3.9.4"
  }
 },
 "nbformat": 4,
 "nbformat_minor": 5
}
