{
 "metadata": {
  "language_info": {
   "codemirror_mode": {
    "name": "ipython",
    "version": 3
   },
   "file_extension": ".py",
   "mimetype": "text/x-python",
   "name": "python",
   "nbconvert_exporter": "python",
   "pygments_lexer": "ipython3",
   "version": "3.9.4-final"
  },
  "orig_nbformat": 2,
  "kernelspec": {
   "name": "python394jvsc74a57bd0b6c0758cc3e8825a4c4027809a35d67db4a2b71eb6001123f3f8d1f75d0a2806",
   "display_name": "Python 3.9.4 64-bit"
  }
 },
 "nbformat": 4,
 "nbformat_minor": 2,
 "cells": [
  {
   "cell_type": "code",
   "execution_count": 2,
   "metadata": {},
   "outputs": [
    {
     "output_type": "stream",
     "name": "stdout",
     "text": [
      "Nama :Lola Oktapiani\n\n\nNPM  :18210001\n"
     ]
    }
   ],
   "source": [
    "Nama = \"Lola Oktapiani\"\n",
    "NPM  = \"18210001\"\n",
    "\n",
    "print(\"Nama :{}\".format(Nama))\n",
    "print(\"\\n\")\n",
    "print(\"NPM  :{}\".format (NPM))"
   ]
  }
 ]
}